{
 "cells": [
  {
   "cell_type": "markdown",
   "metadata": {},
   "source": [
    "# Importing packages"
   ]
  },
  {
   "cell_type": "code",
   "execution_count": 1,
   "metadata": {
    "ExecuteTime": {
     "end_time": "2019-10-20T18:14:38.675780Z",
     "start_time": "2019-10-20T18:14:37.958962Z"
    }
   },
   "outputs": [],
   "source": [
    "from sqlalchemy import create_engine\n",
    "import pandas as pd\n",
    "import numpy as np\n",
    "import datetime\n",
    "import uuid"
   ]
  },
  {
   "cell_type": "code",
   "execution_count": 2,
   "metadata": {
    "ExecuteTime": {
     "end_time": "2019-10-20T18:14:53.616914Z",
     "start_time": "2019-10-20T18:14:53.587959Z"
    }
   },
   "outputs": [],
   "source": [
    "engine = create_engine('postgresql://himanshuagarwal:@localhost/scooterapi')"
   ]
  },
  {
   "cell_type": "code",
   "execution_count": null,
   "metadata": {},
   "outputs": [],
   "source": [
    "df = pd.read_sql_query('select * from birds_dc',con=engine)"
   ]
  },
  {
   "cell_type": "markdown",
   "metadata": {},
   "source": [
    "# Identify scooters whose location did not change throughout the day."
   ]
  },
  {
   "cell_type": "markdown",
   "metadata": {},
   "source": [
    "Assumptions/Definitions:\n",
    "1. If a scooter hasn't moved for one **entire** day, then it would be considered a \"stationary\" scooter. A scooter can move the next day, and so for the next day it would be considered \"non-stationary\". But for the day it didn't move completely, it would be considered \"stationary\"."
   ]
  },
  {
   "cell_type": "markdown",
   "metadata": {},
   "source": [
    "## Understand dataset"
   ]
  },
  {
   "cell_type": "code",
   "execution_count": null,
   "metadata": {},
   "outputs": [],
   "source": [
    "df.head()\n",
    "df.describe()\n",
    "df.dtypes"
   ]
  },
  {
   "cell_type": "markdown",
   "metadata": {
    "ExecuteTime": {
     "end_time": "2019-10-23T01:39:37.090189Z",
     "start_time": "2019-10-23T01:39:37.066295Z"
    }
   },
   "source": [
    "## No. of unique scooters by date"
   ]
  },
  {
   "cell_type": "code",
   "execution_count": null,
   "metadata": {},
   "outputs": [],
   "source": [
    "df_scootsbydate = df.groupby('Date')['id'].nunique()\n",
    "df_scootsbydate.mean()"
   ]
  },
  {
   "cell_type": "markdown",
   "metadata": {},
   "source": [
    "## No. of unique scooters by day of the week"
   ]
  },
  {
   "cell_type": "code",
   "execution_count": null,
   "metadata": {},
   "outputs": [],
   "source": [
    "#Converting date and time column to datetime format to work with python\n",
    "df['date_time'] = df['Date'].astype(str) + ' ' + df['Time'].astype(str) \n",
    "df['date_time'] = pd.to_datetime(df.date_time)\n",
    "#To group the no. of unique scooetrs by day of the week. \n",
    "df_scootsbydayofwk2['Avg.'] = df.groupby(df['date_time'].dt.weekday_name,sort=False).id.nunique().mean()\n",
    "df['id'].nunique()"
   ]
  },
  {
   "cell_type": "markdown",
   "metadata": {},
   "source": [
    "## Identify stationary scooters throughout the day."
   ]
  },
  {
   "cell_type": "markdown",
   "metadata": {},
   "source": [
    "Assumptions/Definitions:\n",
    "1. If a scooter hasn't moved for one **entire** day, then it would be considered a \"stationary\" scooter. A scooter can move the next day, and so for the next day it would be considered \"non-stationary\". But for the day it didn't move completely, it would be considered \"stationary\"."
   ]
  },
  {
   "cell_type": "markdown",
   "metadata": {},
   "source": [
    "### "
   ]
  },
  {
   "cell_type": "code",
   "execution_count": null,
   "metadata": {},
   "outputs": [],
   "source": [
    "df_10_1 = df.loc[(df['date_time']>= '2019-10-1 00:00:00')&(df['date_time']<= '2019-10-2 00:00:00')]\n",
    "df_10_1 = df_10_1.reset_index(drop=True)\n",
    "df_10_1['id'].nunique()\n",
    "unqscoots = []\n",
    "unqscoots = df_10_1['id'].unique().tolist()\n",
    "unqscoots_hex = []\n",
    "unqscoots_hex = [unqscoots[u].hex for u,j in enumerate(unqscoots)]\n",
    "unqscoots1 = []\n",
    "for i,n in enumerate(unqscoots):\n",
    "    a = unqscoots[i].urn.split(':')\n",
    "    unqscoots1.append(a[2])"
   ]
  }
 ],
 "metadata": {
  "kernelspec": {
   "display_name": "Python 3",
   "language": "python",
   "name": "python3"
  },
  "language_info": {
   "codemirror_mode": {
    "name": "ipython",
    "version": 3
   },
   "file_extension": ".py",
   "mimetype": "text/x-python",
   "name": "python",
   "nbconvert_exporter": "python",
   "pygments_lexer": "ipython3",
   "version": "3.7.4"
  },
  "toc": {
   "base_numbering": 1,
   "nav_menu": {},
   "number_sections": true,
   "sideBar": true,
   "skip_h1_title": false,
   "title_cell": "Table of Contents",
   "title_sidebar": "Contents",
   "toc_cell": false,
   "toc_position": {},
   "toc_section_display": true,
   "toc_window_display": false
  },
  "varInspector": {
   "cols": {
    "lenName": 16,
    "lenType": 16,
    "lenVar": 40
   },
   "kernels_config": {
    "python": {
     "delete_cmd_postfix": "",
     "delete_cmd_prefix": "del ",
     "library": "var_list.py",
     "varRefreshCmd": "print(var_dic_list())"
    },
    "r": {
     "delete_cmd_postfix": ") ",
     "delete_cmd_prefix": "rm(",
     "library": "var_list.r",
     "varRefreshCmd": "cat(var_dic_list()) "
    }
   },
   "types_to_exclude": [
    "module",
    "function",
    "builtin_function_or_method",
    "instance",
    "_Feature"
   ],
   "window_display": false
  }
 },
 "nbformat": 4,
 "nbformat_minor": 2
}
